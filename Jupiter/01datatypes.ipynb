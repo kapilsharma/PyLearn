{
 "cells": [
  {
   "cell_type": "markdown",
   "id": "dad3ac5c",
   "metadata": {
    "pycharm": {
     "name": "#%% md\n"
    }
   },
   "source": [
    " # Data types in python\n",
    " \n",
    " Python have following Data ypes\n",
    " \n",
    " - Numbers\n",
    "     - Integers (int): 3, 10, 150\n",
    "     - Floating point numbers (float): 1.0, 2.3, 123.4567\n",
    " - Strings (str): \"Hello\", 'world', \"123\"\n",
    " - Lists (list): ['a', 10, 20.1]\n",
    " - Dictionaries (dict): {\"key1\": \"Values 1\", \"Key 2\": \"value 2\"}\n",
    " - Tuples (tup): ('a', 10, 20.3)\n",
    " - Sets (set): {\"a\", \"b\"}\n",
    " - Booleans (bool): True & False\n",
    " \n",
    " Let's check their examples:\n",
    " \n",
    " ## Integers & float\n",
    " \n",
    " Numbers are use operators for operations:"
   ]
  },
  {
   "cell_type": "code",
   "execution_count": null,
   "id": "cb2aa431",
   "metadata": {
    "pycharm": {
     "name": "#%%\n",
     "is_executing": true
    }
   },
   "outputs": [],
   "source": [
    "2 + 4"
   ]
  },
  {
   "cell_type": "code",
   "execution_count": 2,
   "id": "42ec4d7f",
   "metadata": {
    "pycharm": {
     "name": "#%%\n"
    }
   },
   "outputs": [
    {
     "data": {
      "text/plain": [
       "2"
      ]
     },
     "execution_count": 2,
     "metadata": {},
     "output_type": "execute_result"
    }
   ],
   "source": [
    "6 - 4"
   ]
  },
  {
   "cell_type": "code",
   "execution_count": 3,
   "id": "45b4c549",
   "metadata": {
    "pycharm": {
     "name": "#%%\n"
    }
   },
   "outputs": [
    {
     "data": {
      "text/plain": [
       "2.0"
      ]
     },
     "execution_count": 3,
     "metadata": {},
     "output_type": "execute_result"
    }
   ],
   "source": [
    "8/4"
   ]
  },
  {
   "cell_type": "code",
   "execution_count": 4,
   "id": "acb8ae98",
   "metadata": {
    "pycharm": {
     "name": "#%%\n"
    }
   },
   "outputs": [
    {
     "data": {
      "text/plain": [
       "15"
      ]
     },
     "execution_count": 4,
     "metadata": {},
     "output_type": "execute_result"
    }
   ],
   "source": [
    "3 * 5"
   ]
  },
  {
   "cell_type": "code",
   "execution_count": 5,
   "id": "ae696346",
   "metadata": {
    "pycharm": {
     "name": "#%%\n"
    }
   },
   "outputs": [
    {
     "data": {
      "text/plain": [
       "2"
      ]
     },
     "execution_count": 5,
     "metadata": {},
     "output_type": "execute_result"
    }
   ],
   "source": [
    "5 % 3"
   ]
  },
  {
   "cell_type": "markdown",
   "id": "db08beee",
   "metadata": {
    "pycharm": {
     "name": "#%% md\n"
    }
   },
   "source": [
    "### Variables\n",
    "\n",
    "We need to assign data to variables. There are some rules for variable names:\n",
    "\n",
    "- Variable name cannot start with number\n",
    "- There should be no spaces in names. we cna use _\n",
    "- Cant use any of these symbols\n",
    "    - :'\",<>/?|()!@#$%^&*~-+\n",
    "\n",
    "Other than rules, there are some best practices (Recommended but not mandatory)\n",
    "\n",
    "- Use lower cases for variable names\n",
    "- Avoid using words that have secial meaning in ythn like \"int\",\"str\", \"list\" etc."
   ]
  },
  {
   "cell_type": "markdown",
   "id": "5e8d54b6",
   "metadata": {
    "pycharm": {
     "name": "#%% md\n"
    }
   },
   "source": [
    "## Strings\n",
    "\n",
    "String is a group of characters to form words and sentances. Example\n",
    "\n",
    "- \"Kapil\"\n",
    "- 'Sharma'\n",
    "- 'It can contain spaces & any character in unicode'\n",
    "- \"I'm able to use single quote in string, defined by doubl quotes\"\n",
    "- 'I said, \"Python string can contain double quotes, just wrap string with single quote\"'"
   ]
  },
  {
   "cell_type": "markdown",
   "id": "ab680d15",
   "metadata": {
    "pycharm": {
     "name": "#%% md\n"
    }
   },
   "source": [
    "### Printing strings\n",
    "\n",
    "In Jupiter notebook, we can  print string directly but in code, we should use `print()` statement. Example:"
   ]
  },
  {
   "cell_type": "code",
   "execution_count": 6,
   "id": "7a32990d",
   "metadata": {
    "pycharm": {
     "name": "#%%\n"
    }
   },
   "outputs": [
    {
     "data": {
      "text/plain": [
       "'Hello world!'"
      ]
     },
     "execution_count": 6,
     "metadata": {},
     "output_type": "execute_result"
    }
   ],
   "source": [
    "\"Hello world!\""
   ]
  },
  {
   "cell_type": "code",
   "execution_count": 7,
   "id": "46f93e05",
   "metadata": {
    "pycharm": {
     "name": "#%%\n"
    }
   },
   "outputs": [
    {
     "name": "stdout",
     "output_type": "stream",
     "text": [
      "Hello world!\n"
     ]
    }
   ],
   "source": [
    "print(\"Hello world!\")"
   ]
  },
  {
   "cell_type": "markdown",
   "id": "305c4824",
   "metadata": {
    "pycharm": {
     "name": "#%% md\n"
    }
   },
   "source": [
    "One thing to notice in Jupiter notebook, if we print string directly, it adds single quote in output but not with print statement. In actula python file, we must use print function.\n",
    "\n",
    "### String length\n",
    "\n",
    "We can use `len` function to find length of string. Examples:"
   ]
  },
  {
   "cell_type": "code",
   "execution_count": 8,
   "id": "0d254dcd",
   "metadata": {
    "pycharm": {
     "name": "#%%\n"
    }
   },
   "outputs": [
    {
     "data": {
      "text/plain": [
       "12"
      ]
     },
     "execution_count": 8,
     "metadata": {},
     "output_type": "execute_result"
    }
   ],
   "source": [
    "len(\"Kapil Sharma\")"
   ]
  },
  {
   "cell_type": "markdown",
   "id": "ddbf89cc",
   "metadata": {
    "pycharm": {
     "name": "#%% md\n"
    }
   },
   "source": [
    "We must note, space is also part of the length.\n",
    "\n",
    "### String index\n",
    "\n",
    "Each string have a index starting at 1. So the index for following string is\n",
    "\n",
    "```bash\n",
    "String        : \"Kapil S\"\n",
    "index         :  0123456\n",
    "Reverse index : -7 -4 -1\n",
    "                  -5 -2\n",
    "                 -6 -3\n",
    "```\n",
    "\n",
    "Let's check it by example"
   ]
  },
  {
   "cell_type": "code",
   "execution_count": 10,
   "id": "b4801718",
   "metadata": {
    "pycharm": {
     "name": "#%%\n"
    }
   },
   "outputs": [
    {
     "name": "stdout",
     "output_type": "stream",
     "text": [
      "K\n",
      "a\n",
      "p\n",
      "i\n",
      "l\n",
      " \n",
      "S\n",
      "S\n",
      " \n",
      "l\n",
      "i\n",
      "p\n",
      "a\n",
      "K\n"
     ]
    }
   ],
   "source": [
    "name = \"Kapil S\"\n",
    "print(name[0])\n",
    "print(name[1])\n",
    "print(name[2])\n",
    "print(name[3])\n",
    "print(name[4])\n",
    "print(name[5])\n",
    "print(name[6])\n",
    "print(name[-1])\n",
    "print(name[-2])\n",
    "print(name[-3])\n",
    "print(name[-4])\n",
    "print(name[-5])\n",
    "print(name[-6])\n",
    "print(name[-7])"
   ]
  },
  {
   "cell_type": "markdown",
   "id": "d6757b29",
   "metadata": {
    "pycharm": {
     "name": "#%% md\n"
    }
   },
   "source": [
    "### String slicing (sub string)\n",
    "\n",
    "Like index, we can extend python string to do slicing. It cna take 3 params like\n",
    "\n",
    "[start: end: step]\n",
    "\n",
    "Lets check some examples"
   ]
  },
  {
   "cell_type": "code",
   "execution_count": 12,
   "id": "e8363911",
   "metadata": {
    "pycharm": {
     "name": "#%%\n"
    }
   },
   "outputs": [
    {
     "name": "stdout",
     "output_type": "stream",
     "text": [
      "DEFGHIJKLMNOPQRSTVWXYZ\n"
     ]
    }
   ],
   "source": [
    "alpha = 'ABCDEFGHIJKLMNOPQRSTUVWXYZ'\n",
    "print(alpha[3:])"
   ]
  },
  {
   "cell_type": "markdown",
   "id": "d4d4b1ae",
   "metadata": {
    "pycharm": {
     "name": "#%% md\n"
    }
   },
   "source": [
    "In above example, a colon after 3 like `3:` tells python that we no longer want index but slicing. So 3 is `start` and there is no `end` and `step`. Thus `end` will be considered to the end of the string. Thus we got whole string from index `3`.\n",
    "\n",
    "Similarly, we can define `end` without `start` with say `:3`. Here note, `end` is exclusie so wont be included slice. Thus, it must return string slice from `0 to end-1`. "
   ]
  },
  {
   "cell_type": "code",
   "execution_count": 13,
   "id": "9cf30863",
   "metadata": {
    "pycharm": {
     "name": "#%%\n"
    }
   },
   "outputs": [
    {
     "name": "stdout",
     "output_type": "stream",
     "text": [
      "ABC\n"
     ]
    }
   ],
   "source": [
    "print(alpha[:3])"
   ]
  },
  {
   "cell_type": "markdown",
   "id": "e9a9126d",
   "metadata": {
    "pycharm": {
     "name": "#%% md\n"
    }
   },
   "source": [
    "We can also use start and end at the same time"
   ]
  },
  {
   "cell_type": "code",
   "execution_count": 14,
   "id": "81f720a1",
   "metadata": {
    "pycharm": {
     "name": "#%%\n"
    }
   },
   "outputs": [
    {
     "name": "stdout",
     "output_type": "stream",
     "text": [
      "CDE\n"
     ]
    }
   ],
   "source": [
    "print(alpha[2:5])"
   ]
  },
  {
   "cell_type": "markdown",
   "id": "3fbb9407",
   "metadata": {
    "pycharm": {
     "name": "#%% md\n"
    }
   },
   "source": [
    "The third parameter define the step, means returning part of string after jumping the `steps`. Example:"
   ]
  },
  {
   "cell_type": "code",
   "execution_count": 16,
   "id": "f11c8f47",
   "metadata": {
    "pycharm": {
     "name": "#%%\n"
    }
   },
   "outputs": [
    {
     "name": "stdout",
     "output_type": "stream",
     "text": [
      "ACEGIKMOQSVXZ\n"
     ]
    }
   ],
   "source": [
    "print(alpha[::2])"
   ]
  },
  {
   "cell_type": "markdown",
   "id": "4793ef02",
   "metadata": {
    "pycharm": {
     "name": "#%% md\n"
    }
   },
   "source": [
    "We can also use step to reversing a string."
   ]
  },
  {
   "cell_type": "code",
   "execution_count": 17,
   "id": "aa0a95ec",
   "metadata": {
    "pycharm": {
     "name": "#%%\n"
    }
   },
   "outputs": [
    {
     "name": "stdout",
     "output_type": "stream",
     "text": [
      "ZYXWVTSRQPONMLKJIHGFEDCBA\n"
     ]
    }
   ],
   "source": [
    "print(alpha[::-1])"
   ]
  },
  {
   "cell_type": "markdown",
   "id": "dee71905",
   "metadata": {
    "pycharm": {
     "name": "#%% md\n"
    }
   },
   "source": [
    "### String are immutable\n",
    "\n",
    "Once assigned, we can not change he string. Following will not work"
   ]
  },
  {
   "cell_type": "code",
   "execution_count": 18,
   "id": "91a2c60a",
   "metadata": {
    "pycharm": {
     "name": "#%%\n"
    }
   },
   "outputs": [
    {
     "ename": "TypeError",
     "evalue": "'str' object does not support item assignment",
     "output_type": "error",
     "traceback": [
      "\u001B[1;31m---------------------------------------------------------------------------\u001B[0m",
      "\u001B[1;31mTypeError\u001B[0m                                 Traceback (most recent call last)",
      "\u001B[1;32m~\\AppData\\Local\\Temp/ipykernel_28872/2988170902.py\u001B[0m in \u001B[0;36m<module>\u001B[1;34m\u001B[0m\n\u001B[0;32m      1\u001B[0m \u001B[0mname\u001B[0m \u001B[1;33m=\u001B[0m \u001B[1;34m'Kapil'\u001B[0m\u001B[1;33m\u001B[0m\u001B[1;33m\u001B[0m\u001B[0m\n\u001B[0;32m      2\u001B[0m \u001B[1;31m# Try to make name as Sapil\u001B[0m\u001B[1;33m\u001B[0m\u001B[1;33m\u001B[0m\u001B[0m\n\u001B[1;32m----> 3\u001B[1;33m \u001B[0mname\u001B[0m\u001B[1;33m[\u001B[0m\u001B[1;36m0\u001B[0m\u001B[1;33m]\u001B[0m \u001B[1;33m=\u001B[0m \u001B[1;34m'S'\u001B[0m\u001B[1;33m\u001B[0m\u001B[1;33m\u001B[0m\u001B[0m\n\u001B[0m",
      "\u001B[1;31mTypeError\u001B[0m: 'str' object does not support item assignment"
     ]
    }
   ],
   "source": [
    "name = 'Kapil'\n",
    "# Try to make name as Sapil\n",
    "name[0] = 'S'"
   ]
  },
  {
   "cell_type": "markdown",
   "id": "d6d82c1e",
   "metadata": {
    "pycharm": {
     "name": "#%% md\n"
    }
   },
   "source": [
    "As we can see, above code do not work as string is immutable and do not spport item assignment.\n",
    "\n",
    "However, we can do this by string concatenation.\n",
    "\n",
    "### String concatenation\n",
    "\n",
    "We canuse `+` symbol to concate two strings"
   ]
  },
  {
   "cell_type": "code",
   "execution_count": 20,
   "id": "c5918714",
   "metadata": {
    "pycharm": {
     "name": "#%%\n"
    }
   },
   "outputs": [
    {
     "name": "stdout",
     "output_type": "stream",
     "text": [
      "Sapil\n"
     ]
    }
   ],
   "source": [
    "new_name = 'S' + name[1:]\n",
    "print(new_name)"
   ]
  },
  {
   "cell_type": "markdown",
   "id": "8764ef33",
   "metadata": {
    "pycharm": {
     "name": "#%% md\n"
    }
   },
   "source": [
    "## Lists\n",
    "\n",
    "Lists in Python is like indexed array in PHP. It can contain any value and denoted like PHP array []. Some examples"
   ]
  },
  {
   "cell_type": "markdown",
   "id": "bdc36232",
   "metadata": {
    "pycharm": {
     "name": "#%% md\n"
    }
   },
   "source": [
    "my_list = [2, \"Three\", 4.0]\n",
    "my_list"
   ]
  },
  {
   "cell_type": "code",
   "execution_count": 22,
   "id": "259be61f",
   "metadata": {
    "pycharm": {
     "name": "#%%\n"
    }
   },
   "outputs": [
    {
     "name": "stdout",
     "output_type": "stream",
     "text": [
      "[2, 'Three', 4.0]\n"
     ]
    }
   ],
   "source": [
    "print(my_list)"
   ]
  },
  {
   "cell_type": "markdown",
   "id": "e9fc8856",
   "metadata": {
    "pycharm": {
     "name": "#%% md\n"
    }
   },
   "source": [
    "### Indexing and slicing in list\n",
    "\n",
    "Indexing and slicing in list works like string. Examples:"
   ]
  },
  {
   "cell_type": "code",
   "execution_count": 23,
   "id": "25c37262",
   "metadata": {
    "pycharm": {
     "name": "#%%\n"
    }
   },
   "outputs": [
    {
     "name": "stdout",
     "output_type": "stream",
     "text": [
      "2\n",
      "Three\n",
      "4.0\n"
     ]
    }
   ],
   "source": [
    "print(my_list[0])\n",
    "print(my_list[1])\n",
    "print(my_list[-1])"
   ]
  },
  {
   "cell_type": "code",
   "execution_count": 25,
   "id": "a5c5e642",
   "metadata": {
    "pycharm": {
     "name": "#%%\n"
    }
   },
   "outputs": [
    {
     "name": "stdout",
     "output_type": "stream",
     "text": [
      "['Three', 4.0]\n"
     ]
    }
   ],
   "source": [
    "print(my_list[1:])"
   ]
  },
  {
   "cell_type": "code",
   "execution_count": 26,
   "id": "abfcdbe9",
   "metadata": {
    "pycharm": {
     "name": "#%%\n"
    }
   },
   "outputs": [
    {
     "name": "stdout",
     "output_type": "stream",
     "text": [
      "[2, 'Three']\n"
     ]
    }
   ],
   "source": [
    "print(my_list[:2])"
   ]
  },
  {
   "cell_type": "code",
   "execution_count": 27,
   "id": "a33abf3a",
   "metadata": {
    "pycharm": {
     "name": "#%%\n"
    }
   },
   "outputs": [
    {
     "name": "stdout",
     "output_type": "stream",
     "text": [
      "[2, 4.0]\n"
     ]
    }
   ],
   "source": [
    "print(my_list[::2])"
   ]
  },
  {
   "cell_type": "code",
   "execution_count": 29,
   "id": "5cb80f0c",
   "metadata": {
    "pycharm": {
     "name": "#%%\n"
    }
   },
   "outputs": [
    {
     "name": "stdout",
     "output_type": "stream",
     "text": [
      "[4.0, 'Three', 2]\n"
     ]
    }
   ],
   "source": [
    "print(my_list[::-1])"
   ]
  },
  {
   "cell_type": "markdown",
   "id": "1ba6d381",
   "metadata": {
    "pycharm": {
     "name": "#%% md\n"
    }
   },
   "source": [
    "Like string, we can get length by `len()`"
   ]
  },
  {
   "cell_type": "code",
   "execution_count": 30,
   "id": "040e77db",
   "metadata": {
    "pycharm": {
     "name": "#%%\n"
    }
   },
   "outputs": [
    {
     "name": "stdout",
     "output_type": "stream",
     "text": [
      "3\n"
     ]
    }
   ],
   "source": [
    "print(len(my_list))"
   ]
  },
  {
   "cell_type": "markdown",
   "id": "961be3b3",
   "metadata": {
    "pycharm": {
     "name": "#%% md\n"
    }
   },
   "source": [
    "### Lists are mutable\n",
    "\n",
    "Unlike string, lists are mutable so we can add/remove/edit items in list."
   ]
  },
  {
   "cell_type": "code",
   "execution_count": 35,
   "id": "f4612a60",
   "metadata": {
    "pycharm": {
     "name": "#%%\n"
    }
   },
   "outputs": [
    {
     "name": "stdout",
     "output_type": "stream",
     "text": [
      "['One', 'One', 4, 2, 'Three', 4]\n"
     ]
    }
   ],
   "source": [
    "my_list[2] = 4\n",
    "print(my_list)"
   ]
  },
  {
   "cell_type": "markdown",
   "id": "7d2ba3b3",
   "metadata": {
    "pycharm": {
     "name": "#%% md\n"
    }
   },
   "source": [
    "### Adding/removing before/after list\n",
    "\n",
    "```bash\n",
    "PHP function  |  Python equivalent\n",
    "array_push    |  list + ['value'], list.append('value')\n",
    "array_pop     |  list.pop()\n",
    "array_shift   |  list.pop(0)\n",
    "array_unshift |  list.insert(0, 'value')\n",
    "```"
   ]
  },
  {
   "cell_type": "code",
   "execution_count": 44,
   "id": "beb79c84",
   "metadata": {
    "pycharm": {
     "name": "#%%\n"
    }
   },
   "outputs": [
    {
     "name": "stdout",
     "output_type": "stream",
     "text": [
      "[2, 'Three', 4]\n",
      "[2, 'Three', 4, 5]\n",
      "5\n",
      "[2, 'Three', 4]\n",
      "2\n",
      "['Three', 4]\n",
      "[1, 2, 'Three', 4]\n"
     ]
    }
   ],
   "source": [
    "my_list = [2, 'Three', 4]\n",
    "print(my_list)\n",
    "\n",
    "my_list += [5]\n",
    "print(my_list)\n",
    "\n",
    "poped_item = my_list.pop()\n",
    "print(poped_item)\n",
    "print(my_list)\n",
    "\n",
    "poped_item = my_list.pop(0)\n",
    "print(poped_item)\n",
    "print(my_list)\n",
    "\n",
    "my_list.insert(0, 2)\n",
    "my_list.insert(0, 1)\n",
    "print(my_list)"
   ]
  },
  {
   "cell_type": "markdown",
   "id": "3c827f75",
   "metadata": {
    "pycharm": {
     "name": "#%% md\n"
    }
   },
   "source": [
    "## Dictionary\n",
    "\n",
    "Dictionary is Python's equivalent of PHP's associative array. It is very similar to JS object or JSON and like JSON, represented by curly braces `{}`\n",
    "\n",
    "Like JSON or PHP associative array, we can have nesting. Let's check some examples:"
   ]
  },
  {
   "cell_type": "code",
   "execution_count": 54,
   "id": "e9570d4e",
   "metadata": {
    "pycharm": {
     "name": "#%%\n"
    }
   },
   "outputs": [
    {
     "name": "stdout",
     "output_type": "stream",
     "text": [
      "{'key1': 'value1', 'key 2': 2}\n",
      "value1\n",
      "2\n"
     ]
    }
   ],
   "source": [
    "my_dict = {\"key1\": \"value1\", \"key 2\": 2}\n",
    "print(my_dict)\n",
    "print(my_dict['key1'])\n",
    "print(my_dict['key 2'])"
   ]
  },
  {
   "cell_type": "code",
   "execution_count": 55,
   "id": "a544e6d4",
   "metadata": {
    "pycharm": {
     "name": "#%%\n"
    }
   },
   "outputs": [
    {
     "name": "stdout",
     "output_type": "stream",
     "text": [
      "{'key1': 'value1', 'key 2': 2, 'list_key': [1, 2, 3, 4, 5]}\n"
     ]
    }
   ],
   "source": [
    "my_dict['list_key'] = [1,2,3,4,5]\n",
    "print(my_dict)"
   ]
  },
  {
   "cell_type": "code",
   "execution_count": 56,
   "id": "d3278710",
   "metadata": {
    "pycharm": {
     "name": "#%%\n"
    }
   },
   "outputs": [
    {
     "name": "stdout",
     "output_type": "stream",
     "text": [
      "{'key1': 'value1', 'key 2': 2, 'list_key': [1, 2, 3, 4, 5], 'dict_key': {'in_key1': 'in_val1', 'in_key2': {'inink1': 'ininv1'}}}\n"
     ]
    }
   ],
   "source": [
    "my_dict['dict_key'] = {'in_key1':'in_val1', 'in_key2': {'inink1': 'ininv1'}}\n",
    "print(my_dict)"
   ]
  },
  {
   "cell_type": "code",
   "execution_count": 57,
   "id": "3a201dcc",
   "metadata": {
    "pycharm": {
     "name": "#%%\n"
    }
   },
   "outputs": [
    {
     "name": "stdout",
     "output_type": "stream",
     "text": [
      "value1\n",
      "2\n",
      "[1, 2, 3, 4, 5]\n",
      "1\n",
      "5\n",
      "{'in_key1': 'in_val1', 'in_key2': {'inink1': 'ininv1'}}\n",
      "in_val1\n",
      "{'inink1': 'ininv1'}\n",
      "ininv1\n"
     ]
    }
   ],
   "source": [
    "print(my_dict['key1'])\n",
    "print(my_dict['key 2'])\n",
    "print(my_dict['list_key'])\n",
    "print(my_dict['list_key'][0])\n",
    "print(my_dict['list_key'][-1])\n",
    "print(my_dict['dict_key'])\n",
    "print(my_dict['dict_key']['in_key1'])\n",
    "print(my_dict['dict_key']['in_key2'])\n",
    "print(my_dict['dict_key']['in_key2']['inink1'])"
   ]
  },
  {
   "cell_type": "markdown",
   "id": "63a71804",
   "metadata": {
    "pycharm": {
     "name": "#%% md\n"
    }
   },
   "source": [
    "## Tuples\n",
    "\n",
    "Tuples in python is much like a list but with one major difference, tuples are mutable. That is, once assigned, we can't change its value. It is denoted by `()`. Let's check by examples:"
   ]
  },
  {
   "cell_type": "code",
   "execution_count": 59,
   "id": "18a1333f",
   "metadata": {
    "pycharm": {
     "name": "#%%\n"
    }
   },
   "outputs": [
    {
     "name": "stdout",
     "output_type": "stream",
     "text": [
      "[1, 2, 3]\n",
      "(1, 2, 3)\n",
      "1\n",
      "1\n"
     ]
    }
   ],
   "source": [
    "my_list = [1,2,3]\n",
    "my_tup = (1,2,3)\n",
    "print(my_list)\n",
    "print(my_tup)\n",
    "print(my_list[0])\n",
    "print(my_tup[0])"
   ]
  },
  {
   "cell_type": "markdown",
   "id": "aa56884d",
   "metadata": {
    "pycharm": {
     "name": "#%% md\n"
    }
   },
   "source": [
    "So far, its same as list but like list, we can't change tuple's elements"
   ]
  },
  {
   "cell_type": "code",
   "execution_count": 62,
   "id": "059c54b5",
   "metadata": {
    "pycharm": {
     "name": "#%%\n"
    }
   },
   "outputs": [
    {
     "name": "stdout",
     "output_type": "stream",
     "text": [
      "['One', 2, 3]\n"
     ]
    }
   ],
   "source": [
    "my_list[0] = 'One'\n",
    "print(my_list)"
   ]
  },
  {
   "cell_type": "code",
   "execution_count": 63,
   "id": "9e134750",
   "metadata": {
    "pycharm": {
     "name": "#%%\n"
    }
   },
   "outputs": [
    {
     "ename": "TypeError",
     "evalue": "'tuple' object does not support item assignment",
     "output_type": "error",
     "traceback": [
      "\u001B[1;31m---------------------------------------------------------------------------\u001B[0m",
      "\u001B[1;31mTypeError\u001B[0m                                 Traceback (most recent call last)",
      "\u001B[1;32m~\\AppData\\Local\\Temp/ipykernel_28872/2235444101.py\u001B[0m in \u001B[0;36m<module>\u001B[1;34m\u001B[0m\n\u001B[1;32m----> 1\u001B[1;33m \u001B[0mmy_tup\u001B[0m\u001B[1;33m[\u001B[0m\u001B[1;36m0\u001B[0m\u001B[1;33m]\u001B[0m \u001B[1;33m=\u001B[0m \u001B[1;34m'One'\u001B[0m\u001B[1;33m\u001B[0m\u001B[1;33m\u001B[0m\u001B[0m\n\u001B[0m",
      "\u001B[1;31mTypeError\u001B[0m: 'tuple' object does not support item assignment"
     ]
    }
   ],
   "source": [
    "my_tup[0] = 'One'"
   ]
  },
  {
   "cell_type": "markdown",
   "id": "de881cb0",
   "metadata": {
    "pycharm": {
     "name": "#%% md\n"
    }
   },
   "source": [
    "As we see, tuple do not support changing elements, once assigned. However, we can add the elements to Tuple."
   ]
  },
  {
   "cell_type": "code",
   "execution_count": 67,
   "id": "022a9e75",
   "metadata": {
    "pycharm": {
     "name": "#%%\n"
    }
   },
   "outputs": [
    {
     "name": "stdout",
     "output_type": "stream",
     "text": [
      "(1, 2, 3, 4, 5)\n"
     ]
    }
   ],
   "source": [
    "my_tup = (1,2,3)\n",
    "my_tup += (4,5)\n",
    "print(my_tup)"
   ]
  },
  {
   "cell_type": "markdown",
   "id": "6d1f2d6e",
   "metadata": {
    "pycharm": {
     "name": "#%% md\n"
    }
   },
   "source": [
    "## Sets\n",
    "\n",
    "Sets are similar to list with one important difference, it is an unordered collection of **unique elements**. That means, we can't have same value/object twice in a set. We can create them by using the `set()` function. Let's understand with some examples:"
   ]
  },
  {
   "cell_type": "code",
   "execution_count": 68,
   "id": "7457b950",
   "metadata": {
    "pycharm": {
     "name": "#%%\n"
    }
   },
   "outputs": [
    {
     "name": "stdout",
     "output_type": "stream",
     "text": [
      "set()\n"
     ]
    }
   ],
   "source": [
    "my_set = set()\n",
    "print(my_set)"
   ]
  },
  {
   "cell_type": "code",
   "execution_count": 70,
   "id": "d77e4f21",
   "metadata": {
    "pycharm": {
     "name": "#%%\n"
    }
   },
   "outputs": [
    {
     "name": "stdout",
     "output_type": "stream",
     "text": [
      "{1, 2, 3}\n"
     ]
    }
   ],
   "source": [
    "my_set.add(1)\n",
    "my_set.add(3)\n",
    "my_set.add(2)\n",
    "my_set.add(3)\n",
    "print(my_set)"
   ]
  },
  {
   "cell_type": "markdown",
   "id": "1e5af094",
   "metadata": {
    "pycharm": {
     "name": "#%% md\n"
    }
   },
   "source": [
    "Few things we may notice:\n",
    "\n",
    "- We can add values to set by `add` method\n",
    "- Set have unique elements, we added `3` twice but it was added once\n",
    "- Set are not ordered. We may see above example as ordered but set, by definition, are not ordered and do not depend on it for sorting.\n",
    "- Set is represented by `{}`, similar to dictionary but it is not dictionary (No key:value). However, we can see it as dictionary of keys (One key appear only once in a dictionary)"
   ]
  },
  {
   "cell_type": "markdown",
   "id": "70084c90",
   "metadata": {
    "pycharm": {
     "name": "#%% md\n"
    }
   },
   "source": [
    "## Booleans\n",
    "\n",
    "In python, booleans are jsut like any other language with two possible values, `True` and `False`. Notice first letter of True and False are capital."
   ]
  },
  {
   "cell_type": "markdown",
   "id": "f75fde96",
   "metadata": {
    "pycharm": {
     "name": "#%% md\n"
    }
   },
   "source": [
    "## None\n",
    "\n",
    "None is not a Data type but it is importnat to discuss as it is equivalent to JS/PHP Null."
   ]
  }
 ],
 "metadata": {
  "kernelspec": {
   "display_name": "Python 3 (ipykernel)",
   "language": "python",
   "name": "python3"
  },
  "language_info": {
   "codemirror_mode": {
    "name": "ipython",
    "version": 3
   },
   "file_extension": ".py",
   "mimetype": "text/x-python",
   "name": "python",
   "nbconvert_exporter": "python",
   "pygments_lexer": "ipython3",
   "version": "3.9.7"
  }
 },
 "nbformat": 4,
 "nbformat_minor": 5
}