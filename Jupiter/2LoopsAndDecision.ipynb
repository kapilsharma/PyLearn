{
 "cells": [
  {
   "cell_type": "markdown",
   "id": "18e7088d",
   "metadata": {},
   "source": [
    "# If elif else"
   ]
  },
  {
   "cell_type": "code",
   "execution_count": 8,
   "id": "b8425778",
   "metadata": {},
   "outputs": [
    {
     "name": "stdout",
     "output_type": "stream",
     "text": [
      "Enter total marks: 500\n",
      "Enter marks obtained: 450\n",
      "Honours\n"
     ]
    }
   ],
   "source": [
    "total_marks = float(input(\"Enter total marks: \"))\n",
    "marks = float(input(\"Enter marks obtained: \"))\n",
    "percentage = marks * 100 / total_marks\n",
    "\n",
    "if percentage >= 85:\n",
    "    print(\"Honours\")\n",
    "elif percentage >= 60:\n",
    "    print(\"First division\")\n",
    "elif percentage >= 50:\n",
    "    print(\"Second division\")\n",
    "elif percentage >= 33:\n",
    "    print(\"Third division\")\n",
    "else:\n",
    "    print(\"Fail\")"
   ]
  },
  {
   "cell_type": "markdown",
   "id": "71e172e7",
   "metadata": {},
   "source": [
    "# For loop\n",
    "\n",
    "Python do not support c/C++/Java/PHP/JS type conventional for loop like `for(i=0;i<10;i++)`\n",
    "\n",
    "Instead we cna achieve same through `range(start=0, end, step=1)` function (Note, `end` is exclusive). Let's see and exampel to print following number triangle (contain both increment/decrement loops):\n",
    "\n",
    "```bash\n",
    "4\n",
    "3 4\n",
    "2 3 4\n",
    "1 2 3 4\n",
    "```"
   ]
  },
  {
   "cell_type": "code",
   "execution_count": 11,
   "id": "ea5b950d",
   "metadata": {},
   "outputs": [
    {
     "name": "stdout",
     "output_type": "stream",
     "text": [
      "4 \n",
      "3 4 \n",
      "2 3 4 \n",
      "1 2 3 4 \n"
     ]
    }
   ],
   "source": [
    "for row in range(4,0,-1):\n",
    "    for col in range(row, 5):\n",
    "        print(col, end=' ')\n",
    "    print()"
   ]
  },
  {
   "cell_type": "markdown",
   "id": "bf157a97",
   "metadata": {},
   "source": [
    "Another example:\n",
    "\n",
    "```bash\n",
    "        1\n",
    "      2 1\n",
    "    3 2 1\n",
    "  4 3 2 1\n",
    "5 4 3 2 1\n",
    "\n",
    "row  space  formula\n",
    "            5-row\n",
    "1    4      4\n",
    "2    3      3\n",
    "3    2      2\n",
    "4    1      1\n",
    "5    0      0\n",
    "```"
   ]
  },
  {
   "cell_type": "code",
   "execution_count": 14,
   "id": "920c7dca",
   "metadata": {},
   "outputs": [
    {
     "name": "stdout",
     "output_type": "stream",
     "text": [
      "        1 \n",
      "      2 1 \n",
      "    3 2 1 \n",
      "  4 3 2 1 \n",
      "5 4 3 2 1 \n"
     ]
    }
   ],
   "source": [
    "for row in range(1,6):\n",
    "    for _ in range(5-row):\n",
    "        print('  ', end='')\n",
    "    for col in range(row,0,-1):\n",
    "        print(col, end=' ')\n",
    "    print()"
   ]
  },
  {
   "cell_type": "markdown",
   "id": "9f3ac257",
   "metadata": {},
   "source": [
    "## Printing iteratable\n",
    "\n",
    "We can also use for loop to print iterables like list, dictionary, tuple etc. Examples:"
   ]
  },
  {
   "cell_type": "code",
   "execution_count": 15,
   "id": "af5b5f98",
   "metadata": {},
   "outputs": [
    {
     "name": "stdout",
     "output_type": "stream",
     "text": [
      "1\n",
      "2\n",
      "3\n",
      "4\n",
      "5\n"
     ]
    }
   ],
   "source": [
    "my_list = [1,2,3,4,5]\n",
    "\n",
    "for item in my_list:\n",
    "    print(item)"
   ]
  },
  {
   "cell_type": "code",
   "execution_count": 18,
   "id": "7b6842d8",
   "metadata": {},
   "outputs": [
    {
     "name": "stdout",
     "output_type": "stream",
     "text": [
      "k1\n",
      "k2\n"
     ]
    }
   ],
   "source": [
    "my_dict = {\"k1\": 1, \"k2\": 2}\n",
    "\n",
    "for item in my_dict:\n",
    "    print(item) # It will print only keys"
   ]
  },
  {
   "cell_type": "code",
   "execution_count": 20,
   "id": "56452f5c",
   "metadata": {},
   "outputs": [
    {
     "name": "stdout",
     "output_type": "stream",
     "text": [
      "1\n",
      "2\n"
     ]
    }
   ],
   "source": [
    "my_dict = {\"k1\": 1, \"k2\": 2}\n",
    "for item in my_dict.values(): # to print values, run loop on dictionary.values()\n",
    "    print(item)"
   ]
  },
  {
   "cell_type": "code",
   "execution_count": 22,
   "id": "9dc017ed",
   "metadata": {},
   "outputs": [
    {
     "name": "stdout",
     "output_type": "stream",
     "text": [
      "dict_items([('k1', 1), ('k2', 2)])\n"
     ]
    }
   ],
   "source": [
    "my_dict = {\"k1\": 1, \"k2\": 2}\n",
    "print(my_dict.items()) # It return tuples of key and value"
   ]
  },
  {
   "cell_type": "code",
   "execution_count": 23,
   "id": "d0d39d98",
   "metadata": {},
   "outputs": [
    {
     "name": "stdout",
     "output_type": "stream",
     "text": [
      "Key = k1, value = 1\n",
      "Key = k2, value = 2\n"
     ]
    }
   ],
   "source": [
    "my_dict = {\"k1\": 1, \"k2\": 2}\n",
    "\n",
    "for key, value in my_dict.items():\n",
    "    print(f'Key = {key}, value = {value}')"
   ]
  },
  {
   "cell_type": "code",
   "execution_count": 24,
   "id": "b4a50e93",
   "metadata": {},
   "outputs": [
    {
     "name": "stdout",
     "output_type": "stream",
     "text": [
      "K\n",
      "a\n",
      "p\n",
      "i\n",
      "l\n"
     ]
    }
   ],
   "source": [
    "name = 'Kapil'\n",
    "\n",
    "for char in name:\n",
    "    print(char)"
   ]
  },
  {
   "cell_type": "code",
   "execution_count": 25,
   "id": "358e524f",
   "metadata": {},
   "outputs": [
    {
     "name": "stdout",
     "output_type": "stream",
     "text": [
      "1\n",
      "2\n",
      "3\n",
      "4\n",
      "5\n"
     ]
    }
   ],
   "source": [
    "tup = (1,2,3,4,5)\n",
    "for item in tup:\n",
    "    print(item)"
   ]
  },
  {
   "cell_type": "markdown",
   "id": "ec87254c",
   "metadata": {},
   "source": [
    "# While loop\n",
    "\n",
    "While loop is conventional like most other languages (C, C++, php, JS, etc), with one exception, it also have `else`. Examples:"
   ]
  },
  {
   "cell_type": "code",
   "execution_count": 4,
   "id": "96263cd2",
   "metadata": {},
   "outputs": [
    {
     "name": "stdout",
     "output_type": "stream",
     "text": [
      "1\n",
      "2\n",
      "3\n",
      "4\n",
      "Printed till 4\n"
     ]
    }
   ],
   "source": [
    "count = 1\n",
    "while count < 5:\n",
    "    print(count)\n",
    "    count += 1\n",
    "else:\n",
    "    print(\"Printed till 4\")"
   ]
  },
  {
   "cell_type": "markdown",
   "id": "4526816b",
   "metadata": {},
   "source": [
    "Thus, `else` block will always execute when while coondition fails.\n",
    "\n",
    "**Practical use case**: Determine if while loop finished normally or terminated through `break`. `else` of while will always execute unless while is terminated by `break` statement.\n",
    "\n",
    "# Some helpful function to work with loops\n",
    "\n",
    "## enumerate\n",
    "\n",
    "Enumerate return a tuple of (index,value)"
   ]
  },
  {
   "cell_type": "code",
   "execution_count": 7,
   "id": "8b4876f0",
   "metadata": {},
   "outputs": [
    {
     "name": "stdout",
     "output_type": "stream",
     "text": [
      "(0, 'K')\n",
      "(1, 'a')\n",
      "(2, 'p')\n",
      "(3, 'i')\n",
      "(4, 'l')\n"
     ]
    }
   ],
   "source": [
    "name = 'Kapil'\n",
    "\n",
    "for item in enumerate(name):\n",
    "    print(item)"
   ]
  },
  {
   "cell_type": "code",
   "execution_count": 9,
   "id": "50dfd035",
   "metadata": {},
   "outputs": [
    {
     "name": "stdout",
     "output_type": "stream",
     "text": [
      "'K' is at index 0\n",
      "'a' is at index 1\n",
      "'p' is at index 2\n",
      "'i' is at index 3\n",
      "'l' is at index 4\n"
     ]
    }
   ],
   "source": [
    "name = 'Kapil'\n",
    "\n",
    "for index, value in enumerate(name):\n",
    "    print(f\"'{value}' is at index {index}\")"
   ]
  },
  {
   "cell_type": "markdown",
   "id": "b26715e7",
   "metadata": {},
   "source": [
    "## zip\n",
    "\n",
    "zip take two or more iterators and return tuple from them.\n",
    "If iterators are not of same length, length of shortest iterator is considered"
   ]
  },
  {
   "cell_type": "code",
   "execution_count": 10,
   "id": "07f4e765",
   "metadata": {},
   "outputs": [
    {
     "name": "stdout",
     "output_type": "stream",
     "text": [
      "(1, 'k')\n",
      "(2, 'a')\n",
      "(3, 'p')\n",
      "(4, 'i')\n",
      "(5, 'l')\n"
     ]
    }
   ],
   "source": [
    "list1 = [1,2,3,4,5]\n",
    "list2 = ['k','a','p','i','l']\n",
    "\n",
    "for item in zip(list1, list2):\n",
    "    print(item)"
   ]
  },
  {
   "cell_type": "code",
   "execution_count": null,
   "id": "16e9c386",
   "metadata": {},
   "outputs": [],
   "source": []
  }
 ],
 "metadata": {
  "kernelspec": {
   "display_name": "Python 3 (ipykernel)",
   "language": "python",
   "name": "python3"
  },
  "language_info": {
   "codemirror_mode": {
    "name": "ipython",
    "version": 3
   },
   "file_extension": ".py",
   "mimetype": "text/x-python",
   "name": "python",
   "nbconvert_exporter": "python",
   "pygments_lexer": "ipython3",
   "version": "3.9.7"
  }
 },
 "nbformat": 4,
 "nbformat_minor": 5
}
