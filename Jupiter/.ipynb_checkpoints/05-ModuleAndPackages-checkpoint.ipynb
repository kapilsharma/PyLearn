{
 "cells": [
  {
   "cell_type": "markdown",
   "id": "8adf2973",
   "metadata": {},
   "source": [
    "# Modules and packages\n",
    "\n",
    "> Module is just a Python script that we can call in another python script\n",
    ">\n",
    "> Packages are the collection of modules\n",
    "\n",
    "Since packages is just a collection of Python scripts (modules), we need some way to tell python that a given folder is a package. We do this by adding a file `__init__.py` in the folder.\n",
    "\n",
    "## Including module in a program\n",
    "\n",
    "```python\n",
    "from mymodule import function_name\n",
    "\n",
    "function_name()\n",
    "```\n",
    "\n",
    "If there are multiple functions, we can use\n",
    "\n",
    "```python\n",
    "from mymodule import *\n",
    "\n",
    "function1()\n",
    "function2()\n",
    "```\n",
    "\n",
    "## Package\n",
    "\n",
    "As we said, package is just a collection of modules (python files), arranged in a folder. Exa,ple code is given in `project/package`."
   ]
  },
  {
   "cell_type": "code",
   "execution_count": null,
   "id": "d8ad496f",
   "metadata": {},
   "outputs": [],
   "source": []
  }
 ],
 "metadata": {
  "kernelspec": {
   "display_name": "Python 3 (ipykernel)",
   "language": "python",
   "name": "python3"
  },
  "language_info": {
   "codemirror_mode": {
    "name": "ipython",
    "version": 3
   },
   "file_extension": ".py",
   "mimetype": "text/x-python",
   "name": "python",
   "nbconvert_exporter": "python",
   "pygments_lexer": "ipython3",
   "version": "3.9.12"
  }
 },
 "nbformat": 4,
 "nbformat_minor": 5
}
