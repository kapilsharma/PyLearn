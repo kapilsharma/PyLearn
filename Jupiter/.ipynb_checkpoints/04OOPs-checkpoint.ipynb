{
 "cells": [
  {
   "cell_type": "markdown",
   "id": "09af28f2",
   "metadata": {},
   "source": [
    "# Making simple class\n",
    "\n",
    "Example"
   ]
  },
  {
   "cell_type": "code",
   "execution_count": 4,
   "id": "c687e259",
   "metadata": {},
   "outputs": [
    {
     "name": "stdout",
     "output_type": "stream",
     "text": [
      "Total percentage is 80.0\n"
     ]
    }
   ],
   "source": [
    "# Class name is written in UpperCamelCase\n",
    "class Result:\n",
    "    \n",
    "    # Class can have class variable, which is same for all\n",
    "    total = 500\n",
    "    \n",
    "    # Constructor is defined by special method __init__\n",
    "    # First argument in any method is always instance of some object. We can name it anything but recommended is self\n",
    "    def __init__(self, name, english, hindi, mathematics, science, sscience):\n",
    "        self.name = name\n",
    "        self.english = english\n",
    "        self.hindi = hindi\n",
    "        self.mathematics = mathematics\n",
    "        self.science = science\n",
    "        self.sscience = sscience\n",
    "        \n",
    "    # Function were written in snake_case but methods are written in lowerCamelCase\n",
    "    def getTotal(self):\n",
    "        return self.english + self.hindi + self.mathematics + self.science + self.sscience\n",
    "    \n",
    "    def getPercentage(self):\n",
    "        # This (self.total) is correct but not recommended.\n",
    "        # return self.getTotal() * 100 * self.total\n",
    "        \n",
    "        # Class variable should be used with class name\n",
    "        return self.getTotal() * 100 / Result.total\n",
    "    \n",
    "result = Result('Kapil', 70, 75, 80, 85, 90)\n",
    "print('Total percentage is {}'.format(result.getPercentage()))"
   ]
  },
  {
   "cell_type": "markdown",
   "id": "1c5a3d16",
   "metadata": {},
   "source": [
    "# Inheritance and special methods\n",
    "\n",
    "Let's try to print result object"
   ]
  },
  {
   "cell_type": "code",
   "execution_count": 5,
   "id": "534c478b",
   "metadata": {},
   "outputs": [
    {
     "name": "stdout",
     "output_type": "stream",
     "text": [
      "<__main__.Result object at 0x7f31002c1850>\n"
     ]
    }
   ],
   "source": [
    "print(result)"
   ]
  },
  {
   "cell_type": "markdown",
   "id": "aa1a16bb",
   "metadata": {},
   "source": []
  }
 ],
 "metadata": {
  "kernelspec": {
   "display_name": "Python 3 (ipykernel)",
   "language": "python",
   "name": "python3"
  },
  "language_info": {
   "codemirror_mode": {
    "name": "ipython",
    "version": 3
   },
   "file_extension": ".py",
   "mimetype": "text/x-python",
   "name": "python",
   "nbconvert_exporter": "python",
   "pygments_lexer": "ipython3",
   "version": "3.9.12"
  }
 },
 "nbformat": 4,
 "nbformat_minor": 5
}
