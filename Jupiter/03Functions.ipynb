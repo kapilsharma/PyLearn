{
 "cells": [
  {
   "cell_type": "markdown",
   "id": "f3d035af",
   "metadata": {},
   "source": [
    "# Functions\n",
    "\n",
    "> Naming convention: function names in python use camel case\n",
    "\n",
    "function is defined by keyword `def`. Examples:"
   ]
  },
  {
   "cell_type": "code",
   "execution_count": 1,
   "id": "08449d5c",
   "metadata": {},
   "outputs": [
    {
     "name": "stdout",
     "output_type": "stream",
     "text": [
      "Hello world!\n"
     ]
    }
   ],
   "source": [
    "def hello_world():\n",
    "    '''\n",
    "    Docstring explaining function\n",
    "    '''\n",
    "    print('Hello world!')\n",
    "\n",
    "hello_world()"
   ]
  },
  {
   "cell_type": "code",
   "execution_count": 9,
   "id": "bbc0b0f0",
   "metadata": {},
   "outputs": [
    {
     "name": "stdout",
     "output_type": "stream",
     "text": [
      "Hello Kapil!\n",
      "Hello Pari!\n",
      "Hello World!\n"
     ]
    }
   ],
   "source": [
    "def hello(name='World'):\n",
    "    print(f'Hello {name}!')\n",
    "\n",
    "hello('Kapil')\n",
    "hello('Pari')\n",
    "hello()"
   ]
  },
  {
   "cell_type": "code",
   "execution_count": 7,
   "id": "a3b8a8c7",
   "metadata": {},
   "outputs": [
    {
     "name": "stdout",
     "output_type": "stream",
     "text": [
      "Sum of 2 and 3 is 5\n"
     ]
    }
   ],
   "source": [
    "def sum(x, y):\n",
    "    return x + y\n",
    "\n",
    "print(f'Sum of 2 and 3 is {sum(2,3)}')"
   ]
  },
  {
   "cell_type": "markdown",
   "id": "2b32d12b",
   "metadata": {},
   "source": [
    "# \\*args and \\**kwargs\n",
    "\n",
    "This is python's way to say any number of arguments\n",
    "\n",
    "- *args (Important is *, it could be *anything but *args is recommended) is passed arguments in tuple\n",
    "- **kwargs - dictionary in key-value pair"
   ]
  },
  {
   "cell_type": "code",
   "execution_count": 10,
   "id": "2104e7a5",
   "metadata": {},
   "outputs": [
    {
     "name": "stdout",
     "output_type": "stream",
     "text": [
      "55\n"
     ]
    }
   ],
   "source": [
    "def sum(*args):\n",
    "    sum = 0\n",
    "    for num in args:\n",
    "        sum += num\n",
    "    return sum\n",
    "\n",
    "print(sum(1,2,3,4,5,6,7,8,9,10))"
   ]
  },
  {
   "cell_type": "code",
   "execution_count": 15,
   "id": "40d6b266",
   "metadata": {},
   "outputs": [
    {
     "name": "stdout",
     "output_type": "stream",
     "text": [
      "{'a': 1, 'b': 2, 'c': 3}\n"
     ]
    }
   ],
   "source": [
    "def test(**kwargs):\n",
    "    print(kwargs)\n",
    "\n",
    "test(a = 1, b= 2, c= 3)"
   ]
  },
  {
   "cell_type": "markdown",
   "id": "6fbf7d88",
   "metadata": {},
   "source": [
    "# Map\n",
    "\n",
    "`map` is an inbuild function, that take two variables.\n",
    "\n",
    "- function: A function to be executed on every item of iteratable\n",
    "- Iterable: an iterable on which function will be executed\n",
    "\n",
    "Example:"
   ]
  },
  {
   "cell_type": "code",
   "execution_count": 17,
   "id": "6b32c57f",
   "metadata": {},
   "outputs": [
    {
     "name": "stdout",
     "output_type": "stream",
     "text": [
      "[1, 4, 9, 16, 25, 36, 49, 64, 81, 100]\n",
      "1\n",
      "4\n",
      "9\n",
      "16\n",
      "25\n",
      "36\n",
      "49\n",
      "64\n",
      "81\n",
      "100\n"
     ]
    }
   ],
   "source": [
    "def square(num):\n",
    "    return num * num\n",
    "nums = [1,2,3,4,5,6,7,8,9,10]\n",
    "\n",
    "squares = list(map(square,nums))\n",
    "print(squares)\n",
    "for item in squares:\n",
    "    print(item)"
   ]
  },
  {
   "cell_type": "markdown",
   "id": "5eb37402",
   "metadata": {},
   "source": [
    "# Filter\n",
    "\n",
    "Map execute a function on iterable. Filter make a sub-set of iterable, based on function. Thus function in filter must return True or False. Example"
   ]
  },
  {
   "cell_type": "code",
   "execution_count": 19,
   "id": "4fc5f9f5",
   "metadata": {},
   "outputs": [
    {
     "name": "stdout",
     "output_type": "stream",
     "text": [
      "[1, 3, 5, 7, 9]\n"
     ]
    }
   ],
   "source": [
    "def is_odd(num):\n",
    "    return num%2 != 0\n",
    "\n",
    "num_list = [1,2,3,4,5,6,7,8,9,10]\n",
    "\n",
    "odd_list = list(filter(is_odd, num_list))\n",
    "print(odd_list)"
   ]
  },
  {
   "cell_type": "markdown",
   "id": "ac451480",
   "metadata": {},
   "source": [
    "# Lambda expression\n",
    "\n",
    "Lambda expression is a function which do not have any name. Let's check by examples:"
   ]
  },
  {
   "cell_type": "code",
   "execution_count": 21,
   "id": "e58f07c7",
   "metadata": {},
   "outputs": [
    {
     "name": "stdout",
     "output_type": "stream",
     "text": [
      "True\n"
     ]
    }
   ],
   "source": [
    "is_odd(num):\n",
    "    return num%2 != 0\n",
    "print(is_odd(3))"
   ]
  },
  {
   "cell_type": "code",
   "execution_count": 22,
   "id": "c572e55a",
   "metadata": {},
   "outputs": [
    {
     "name": "stdout",
     "output_type": "stream",
     "text": [
      "True\n"
     ]
    }
   ],
   "source": [
    "is_odd = lambda num: num%2 != 0\n",
    "print(is_odd(3))"
   ]
  },
  {
   "cell_type": "markdown",
   "id": "613e9376",
   "metadata": {},
   "source": [
    "In above example, we gave a name to lambda. Lambda is more useful if we don't assign them a name (If we need to give name, why not use normal function)\n",
    "\n",
    "It is better use with functions which need a function as argument. Let's try it with map and filter example above."
   ]
  },
  {
   "cell_type": "code",
   "execution_count": 25,
   "id": "50db8a17",
   "metadata": {},
   "outputs": [
    {
     "name": "stdout",
     "output_type": "stream",
     "text": [
      "[1, 4, 9, 16, 25, 36, 49, 64, 81, 100]\n"
     ]
    }
   ],
   "source": [
    "nums = [1,2,3,4,5,6,7,8,9,10]\n",
    "squares = list(map(lambda num: num*num, nums))\n",
    "\n",
    "print(squares)"
   ]
  },
  {
   "cell_type": "code",
   "execution_count": 26,
   "id": "397b0f69",
   "metadata": {},
   "outputs": [
    {
     "name": "stdout",
     "output_type": "stream",
     "text": [
      "[1, 3, 5, 7, 9]\n"
     ]
    }
   ],
   "source": [
    "num_list = [1,2,3,4,5,6,7,8,9,10]\n",
    "\n",
    "odd_list = list(filter(lambda num: num%2 != 0, num_list))\n",
    "print(odd_list)"
   ]
  },
  {
   "cell_type": "code",
   "execution_count": null,
   "id": "beeaf5a0",
   "metadata": {},
   "outputs": [],
   "source": []
  }
 ],
 "metadata": {
  "kernelspec": {
   "display_name": "Python 3 (ipykernel)",
   "language": "python",
   "name": "python3"
  },
  "language_info": {
   "codemirror_mode": {
    "name": "ipython",
    "version": 3
   },
   "file_extension": ".py",
   "mimetype": "text/x-python",
   "name": "python",
   "nbconvert_exporter": "python",
   "pygments_lexer": "ipython3",
   "version": "3.9.12"
  }
 },
 "nbformat": 4,
 "nbformat_minor": 5
}
