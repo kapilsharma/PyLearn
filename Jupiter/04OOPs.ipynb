{
 "cells": [
  {
   "cell_type": "markdown",
   "id": "cd3d29e9",
   "metadata": {},
   "source": [
    "# Making simple class\n",
    "\n",
    "Example"
   ]
  },
  {
   "cell_type": "code",
   "execution_count": 4,
   "id": "47a8f659",
   "metadata": {},
   "outputs": [
    {
     "name": "stdout",
     "output_type": "stream",
     "text": [
      "Total percentage is 80.0\n"
     ]
    }
   ],
   "source": [
    "# Class name is written in UpperCamelCase\n",
    "class Result:\n",
    "    \n",
    "    # Class can have class variable, which is same for all\n",
    "    total = 500\n",
    "    \n",
    "    # Constructor is defined by special method __init__\n",
    "    # First argument in any method is always instance of some object. We can name it anything but recommended is self\n",
    "    def __init__(self, name, english, hindi, mathematics, science, sscience):\n",
    "        self.name = name\n",
    "        self.english = english\n",
    "        self.hindi = hindi\n",
    "        self.mathematics = mathematics\n",
    "        self.science = science\n",
    "        self.sscience = sscience\n",
    "        \n",
    "    # Function were written in snake_case but methods are written in lowerCamelCase\n",
    "    def getTotal(self):\n",
    "        return self.english + self.hindi + self.mathematics + self.science + self.sscience\n",
    "    \n",
    "    def getPercentage(self):\n",
    "        # This (self.total) is correct but not recommended.\n",
    "        # return self.getTotal() * 100 * self.total\n",
    "        \n",
    "        # Class variable should be used with class name\n",
    "        return self.getTotal() * 100 / Result.total\n",
    "    \n",
    "result = Result('Kapil', 70, 75, 80, 85, 90)\n",
    "print('Total percentage is {}'.format(result.getPercentage()))"
   ]
  },
  {
   "cell_type": "markdown",
   "id": "006cfa95",
   "metadata": {},
   "source": [
    "# Inheritance and special methods\n",
    "\n",
    "Let's try to print result object"
   ]
  },
  {
   "cell_type": "code",
   "execution_count": 6,
   "id": "a13b141e",
   "metadata": {},
   "outputs": [
    {
     "name": "stdout",
     "output_type": "stream",
     "text": [
      "<__main__.Result object at 0x7f31002c1850>\n"
     ]
    },
    {
     "ename": "TypeError",
     "evalue": "object of type 'Result' has no len()",
     "output_type": "error",
     "traceback": [
      "\u001b[0;31m---------------------------------------------------------------------------\u001b[0m",
      "\u001b[0;31mTypeError\u001b[0m                                 Traceback (most recent call last)",
      "Input \u001b[0;32mIn [6]\u001b[0m, in \u001b[0;36m<cell line: 2>\u001b[0;34m()\u001b[0m\n\u001b[1;32m      1\u001b[0m \u001b[38;5;28mprint\u001b[39m(result)\n\u001b[0;32m----> 2\u001b[0m \u001b[38;5;28mprint\u001b[39m(\u001b[38;5;28;43mlen\u001b[39;49m\u001b[43m(\u001b[49m\u001b[43mresult\u001b[49m\u001b[43m)\u001b[49m)\n",
      "\u001b[0;31mTypeError\u001b[0m: object of type 'Result' has no len()"
     ]
    }
   ],
   "source": [
    "print(result)\n",
    "print(len(result))"
   ]
  },
  {
   "cell_type": "markdown",
   "id": "9c87df00",
   "metadata": {},
   "source": [
    "As we can see, when we try to print an object, we get object address.\n",
    "\n",
    "This is because Python do not know how to print object of Result class.\n",
    "\n",
    "Similarly, for length, we get error as Python do not know what is the length of Result.\n",
    "\n",
    "Lets create a new class `Result2`, which will extend Result and add those features"
   ]
  },
  {
   "cell_type": "code",
   "execution_count": 8,
   "id": "a36816bc",
   "metadata": {},
   "outputs": [],
   "source": [
    "# In python, we do not have extends keyword\n",
    "# We extend by giving parent class in () while defining class\n",
    "class Result2(Result):\n",
    "    \n",
    "    # We do not need constructor, but if we define, we must call parent class constructor\n",
    "    def __init__(self, name, english, hindi, mathematics, science, sscience):\n",
    "        # do whatever yo uwant in constructor + Call constructor of parent class\n",
    "        Result.__init__(self, name, english, hindi, mathematics, science, sscience)\n",
    "        \n",
    "    # Let's define a new method, getDivision\n",
    "    def getDivision(self):\n",
    "        per = self.getPercentage()\n",
    "        \n",
    "        if per >= 85:\n",
    "            return 'Honours'\n",
    "        elif per >= 60:\n",
    "            return 'First'\n",
    "        elif per >= 50:\n",
    "            return 'Second'\n",
    "        elif per >= 33:\n",
    "            return 'Third'\n",
    "        else:\n",
    "            return 'Fail'\n",
    "        \n",
    "    # `__str__` is called to get string representation of object\n",
    "    def __str__(self):\n",
    "        return ('{} get {} division'.format(self.name, self.getDivision()))\n",
    "    \n",
    "    # Ideally there is no length of Result but for the sake of understanding,\n",
    "    # lets assume total marks is the length of result.\n",
    "    def __len__(self):\n",
    "        return self.getTotal()"
   ]
  },
  {
   "cell_type": "markdown",
   "id": "0e60be0c",
   "metadata": {},
   "source": [
    "Now lets run above code again with Result2"
   ]
  },
  {
   "cell_type": "code",
   "execution_count": 9,
   "id": "fef61642",
   "metadata": {},
   "outputs": [
    {
     "name": "stdout",
     "output_type": "stream",
     "text": [
      "Total percentage is 80.0\n",
      "Kapil get First division\n",
      "400\n"
     ]
    }
   ],
   "source": [
    "result = Result2('Kapil', 70, 75, 80, 85, 90)\n",
    "print('Total percentage is {}'.format(result.getPercentage()))\n",
    "print(result)\n",
    "print(len(result))"
   ]
  },
  {
   "cell_type": "code",
   "execution_count": null,
   "id": "c402347b",
   "metadata": {},
   "outputs": [],
   "source": []
  }
 ],
 "metadata": {
  "kernelspec": {
   "display_name": "Python 3 (ipykernel)",
   "language": "python",
   "name": "python3"
  },
  "language_info": {
   "codemirror_mode": {
    "name": "ipython",
    "version": 3
   },
   "file_extension": ".py",
   "mimetype": "text/x-python",
   "name": "python",
   "nbconvert_exporter": "python",
   "pygments_lexer": "ipython3",
   "version": "3.9.12"
  }
 },
 "nbformat": 4,
 "nbformat_minor": 5
}
